{
  "nbformat": 4,
  "nbformat_minor": 0,
  "metadata": {
    "colab": {
      "provenance": [],
      "include_colab_link": true
    },
    "kernelspec": {
      "name": "python3",
      "display_name": "Python 3"
    },
    "language_info": {
      "name": "python"
    }
  },
  "cells": [
    {
      "cell_type": "markdown",
      "metadata": {
        "id": "view-in-github",
        "colab_type": "text"
      },
      "source": [
        "<a href=\"https://colab.research.google.com/github/emiliamusso/scraper/blob/main/scraper_news.ipynb\" target=\"_parent\"><img src=\"https://colab.research.google.com/assets/colab-badge.svg\" alt=\"Open In Colab\"/></a>"
      ]
    },
    {
      "cell_type": "markdown",
      "source": [
        "# Ejercicios Scraping I"
      ],
      "metadata": {
        "id": "8L2CaHokb-BD"
      }
    },
    {
      "cell_type": "code",
      "source": [
        "from bs4 import BeautifulSoup\n",
        "import requests\n",
        "import os\n",
        "import re"
      ],
      "metadata": {
        "id": "Py6GP56_U4g7"
      },
      "execution_count": null,
      "outputs": []
    },
    {
      "cell_type": "markdown",
      "source": [
        "## 1) Titulos de noticias\n",
        "Descargar la pagina principal de noticias de Tecnología. Utilizar Regex para obtener los titulos de las noticias.\n",
        "\n",
        "Ayuda:\n",
        "- los titulos estan encerrados por el tag `h2`\n",
        "- No tiene que contenter el nombre de otra categoria"
      ],
      "metadata": {
        "id": "CqM0E_jPU812"
      }
    },
    {
      "cell_type": "code",
      "source": [
        "import requests\n",
        "from bs4 import BeautifulSoup\n",
        "\n",
        "infobae_url = 'https://www.infobae.com/tag/tecnologia/'\n",
        "response = requests.get(infobae_url)\n",
        "soup = BeautifulSoup(response.content, 'html.parser')\n",
        "\n",
        "titulos = soup.find_all('h2', class_='d23-feed-list-card-headline-lean')\n",
        "\n",
        "for titulo in titulos:\n",
        "    print(titulo.text)"
      ],
      "metadata": {
        "colab": {
          "base_uri": "https://localhost:8080/"
        },
        "id": "zAHxEC_fj0o0",
        "outputId": "d188bda9-83f1-41cf-a757-be4e2d6c062a"
      },
      "execution_count": null,
      "outputs": [
        {
          "output_type": "stream",
          "name": "stdout",
          "text": [
            "Virtuality Festival 2023: cómo las nuevas tecnologías de realidades transforman el día a día\n",
            "Virtuality Festival: cómo es el Espacio Infobae que invita a vivir en primera persona la nueva realidad\n",
            "Embajador Eyal Sela: “Israel es un Estado joven, con una cultura milenaria y vocación emprendedora”\n",
            "La inteligencia artificial podría ayudar a detectar el Alzheimer en forma precoz\n",
            "Emprendimiento digital: ¿qué aspectos financieros debo tener en cuenta para fundar una startup?\n",
            "Wifi 6: Sergio Massa lanzó un programa para mejorar la conectividad a Internet en todo el país\n",
            "Metaverso y arte digital: cómo será la experiencia inmersiva del evento de tecnología más importante de América Latina\n",
            "El impacto real del metaverso en la sustentabilidad empresarial\n",
            "ImageBind: la nueva herramienta de IA de Meta que emula los sentidos humanos\n",
            "La revolución imparable de la inteligencia artificial transformará la industria del entretenimiento como nunca antes\n",
            "“Científicas que cuentan”, cómo será la versión 2023 del premio que impulsa la comunicación de la ciencia con perspectiva de género y diversidad\n",
            "En el Concejo de Bogotá presentaron la primera intervención escrita con inteligencia artificial\n",
            "Impact Argentina: vuelve el evento que reúne a líderes de marketing, tecnología y negocios\n",
            "Premios Konex 2023: quiénes son las 100 personalidades en Ciencia y Tecnología Argentina que se destacarán\n",
            "El G7 acordó promover un uso “responsable” de la inteligencia artificial\n",
            "Inteligencia artificial en el trabajo: los argentinos la ven como aliada, pero le tienen miedo\n",
            "Los límites y desafíos de la inteligencia artificial\n",
            "India, la nueva potencia global (II)\n",
            "El Salvador aprobó una ley que elimina impuestos de renta, ganancias y propiedad a la industria tecnológica\n",
            "Red 6G: qué beneficios y desventajas traerá esta tecnología\n",
            "Tecnología OLED en televisores: qué atributos tienen los dispositivos que revolucionaron la forma de ver TV\n",
            "La inteligencia artificial en la educación\n",
            "Así reconocía Steve Jobs a los mejores trabajadores para Apple\n",
            "Bennett Miller se pregunta si estamos listos para la Inteligencia Artificial\n",
            "INVAP: Soberanía tecnológica y desarrollo nacional desde una visión pragmática  y sin subsidios estatales\n",
            "Cómo la inteligencia artificial cambiará el futuro de las tareas domésticas\n",
            "Startups e innovación\n",
            "Comercio electrónico: cómo poner la tecnología al servicio de los usuarios\n",
            "La jefa de ciberseguridad británica alertó sobre la amenaza de China a Occidente: “El desafío que define una época”\n",
            "Los dilemas de la inteligencia artificial\n"
          ]
        }
      ]
    },
    {
      "cell_type": "markdown",
      "source": [
        "## 2) Spinetta\n",
        "\n",
        "Descargar letras de canciones\n",
        "\n",
        "Utilizando beautiful soup descargar todas las canciones de [Spinetta](https://es.wikipedia.org/wiki/Luis_Alberto_Spinetta) que hay en [letras.com](https://www.letras.com/spinetta/)"
      ],
      "metadata": {
        "id": "pQMN9jqjU3JQ"
      }
    },
    {
      "cell_type": "code",
      "source": [
        "letras_url = \"https://www.letras.com\"\n",
        "artista = \"luis-alberto-spinetta\"\n",
        "response = requests.get(letras_url+'/'+artista)\n",
        "soup = BeautifulSoup(response.content, 'html.parser')\n",
        "\n",
        "\n",
        "def descargar_letras(artista):\n",
        "  letras = soup.find_all('a', class_='song-name')\n",
        "  for letra in letras:\n",
        "    letras_titulo = letra.text\n",
        "    letras_link = letras_url+letra.get('href')\n",
        "    response_letra = requests.get(letras_link)\n",
        "    soup_letra = BeautifulSoup(response_letra.content, 'html.parser')\n",
        "    letra_contenido = soup_letra.find('div', class_='cnt-letra')\n",
        "    with open(f\"letra_{letras_titulo}.txt\", \"w\") as archivo:\n",
        "      archivo.write(letra_contenido.text)\n",
        "  print(f'la descarga de {letras_titulo} alojada en {letras_link} ha sido exitosa')\n",
        "\n",
        "\n",
        "descargar_letras(artista)"
      ],
      "metadata": {
        "id": "e-ZJcJ7AU7r3",
        "colab": {
          "base_uri": "https://localhost:8080/"
        },
        "outputId": "1ba3be80-e492-4914-ff98-2419058d0d51"
      },
      "execution_count": null,
      "outputs": [
        {
          "output_type": "stream",
          "name": "stdout",
          "text": [
            "la descarga de Yo quiero ver un trén alojada en https://www.letras.com/luis-alberto-spinetta/569122/ ha sido exitosa\n"
          ]
        }
      ]
    },
    {
      "cell_type": "markdown",
      "source": [
        "## 3) Datos de la Formula 1"
      ],
      "metadata": {
        "id": "TLfcrGY-VDPa"
      }
    },
    {
      "cell_type": "markdown",
      "source": [
        "### 3.1) Obtener todos los campeones del mundo\n",
        "Utilizando beautiful soup se pide descargar los siguientes datos:\n",
        "- Año del campeonato\n",
        "- Nombre del piloto\n",
        "- Nombre del equipo\n",
        "- Cantidad de carreras\n",
        "- Cantidad de pilotos"
      ],
      "metadata": {
        "id": "SnglT6vTaoB4"
      }
    },
    {
      "cell_type": "code",
      "source": [
        "import requests\n",
        "from bs4 import BeautifulSoup\n",
        "\n",
        "pilotos = []\n",
        "\n",
        "f1_piloto_url = 'https://pitwall.app/seasons?view=grid'\n",
        "response = requests.get(f1_piloto_url)\n",
        "soup = BeautifulSoup(response.content, 'html.parser')\n",
        "\n",
        "lis = soup.find_all('div', id='seasons-grid')\n",
        "\n",
        "for index, element in enumerate(lis.find_all('a')):\n",
        "  año = element.find('div', class_='top-label driver-number').text\n",
        "  info = element.find('div', class_= 'info')\n",
        "  piloto = info.find('h6').text\n",
        "  try:\n",
        "    equipo = info.find('p').text.strip()\n",
        "  except AttributeError:\n",
        "    print(f'No se pudo obtener el equipo campeon de {año.strip()}')\n",
        "    equipo = None\n",
        "  labels = element.find('div', {'class': 'labels'}).text\n",
        "  carreras = re.findall(r'(\\d{1,3}) races', labels)[0]\n",
        "  cant_pilotos = re.findall(r'(\\d{1,3}) drivers', labels)[0]\n",
        "  data = {\n",
        "    'año': int(año.strip()),\n",
        "    'piloto': piloto.strip(),\n",
        "    'equipo': equipo,\n",
        "    'carreras': int(carreras),\n",
        "    'total_pilotos': int(cant_pilotos)\n",
        "  }\n",
        "  pilotos.append(data)\n"
      ],
      "metadata": {
        "id": "q2zvpmLQVb3M"
      },
      "execution_count": null,
      "outputs": []
    },
    {
      "cell_type": "code",
      "source": [
        "print(equ)"
      ],
      "metadata": {
        "colab": {
          "base_uri": "https://localhost:8080/"
        },
        "id": "9-hV28CC0Jl6",
        "outputId": "8129dbd1-ced0-4570-fa5e-9cfe1b323670"
      },
      "execution_count": null,
      "outputs": [
        {
          "output_type": "stream",
          "name": "stdout",
          "text": [
            "<i class=\"fas fa-trophy\"></i>\n"
          ]
        }
      ]
    },
    {
      "cell_type": "markdown",
      "source": [
        "### 3.2) Circuitos historicos\n",
        "Utilizando beautiful soup se pide descargar los siguientes datos:\n",
        "- Nombre del circuito\n",
        "- Ubicacion\n",
        "- Cantidad de carreras\n",
        "- Link a la pagina del circuito\n",
        "\n",
        "Ingresando a la pagina del circuito se debe obtener:\n",
        "- El piloto con más victorias\n",
        "- Cantidad de victorias\n",
        "- El piloto con más Pole positions (piloto mas rapido en la clasificación)\n",
        "- Cantidad de Pole positions\n",
        "\n",
        "Nota: es recomendable crear una funcion para scrapear la pagina del circuito y devolver los valores pedidos"
      ],
      "metadata": {
        "id": "3k5YJmjZbF9w"
      }
    },
    {
      "cell_type": "code",
      "source": [
        "f1_circuito_url = 'https://pitwall.app/circuits'\n"
      ],
      "metadata": {
        "id": "6UXUaIRtanQ0"
      },
      "execution_count": null,
      "outputs": []
    }
  ]
}